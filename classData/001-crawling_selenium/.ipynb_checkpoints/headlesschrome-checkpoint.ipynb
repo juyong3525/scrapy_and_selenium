{
 "cells": [
  {
   "cell_type": "markdown",
   "metadata": {},
   "source": [
    "### Selenium Basic"
   ]
  },
  {
   "cell_type": "code",
   "execution_count": 8,
   "metadata": {
    "scrolled": true
   },
   "outputs": [
    {
     "name": "stdout",
     "output_type": "stream",
     "text": [
      "\n",
      "Results\n",
      "Python Documentation by Version\n",
      "Download Python for Other Platforms\n",
      "Release – Python 2.5.3\n",
      "Python 2.5.4 Release\n",
      "Release – Python 2.5.4\n",
      "Python 2.5.3 Release\n",
      "Python 2.5 Release\n",
      "Python 2.5.2 Release\n",
      "Python 2.5.1 Release\n",
      "Sunsetting Python 2\n",
      "Release – Python 2.5.0\n",
      "Release – Python 3.1.4\n",
      "Release – Python 2.5.2\n",
      "Python 3.1.4 Release\n",
      "Python 3.1.3 Release\n",
      "Release – Python 2.5.1\n",
      "Python 3.2.1 Release\n",
      "Release – Python 2.7.9rc1\n",
      "Python 3.0 Release\n",
      "Python 3.2.5 Release\n"
     ]
    }
   ],
   "source": [
    "from selenium import webdriver\n",
    "from selenium.webdriver.common.keys import Keys\n",
    "import time\n",
    "\n",
    "chromedriver = '/usr/local/Cellar/chromedriver/chromedriver'\n",
    "driver = webdriver.Chrome(chromedriver)\n",
    "\n",
    "driver.get('http://www.python.org')\n",
    "assert \"Python\" in driver.title  # title에 Python 이라는 단어가 없으면 에러 발생\n",
    "\n",
    "elem = driver.find_element_by_name(\"q\")  # 검색창 가져오기\n",
    "elem.clear()  # 검색창 clear\n",
    "\n",
    "# 키 이벤트 전송\n",
    "elem.send_keys(\"python\")\n",
    "\n",
    "# 엔터 입력\n",
    "elem.send_keys(Keys.RETURN)\n",
    "\n",
    "assert \"No results found.\" not in driver.ㅠ  # 검색 결과 없으면 중단\n",
    "\n",
    "# 2초 기다림\n",
    "time.sleep(2)\n",
    "\n",
    "# 태그 이름으로 접근\n",
    "h3s = driver.find_elements_by_tag_name(\"h3\")\n",
    "for h3 in h3s:\n",
    "    print(h3.text)\n",
    "\n",
    "# 브라우저 닫기\n",
    "driver.quit()"
   ]
  },
  {
   "cell_type": "markdown",
   "metadata": {},
   "source": [
    "### 연습"
   ]
  },
  {
   "cell_type": "code",
   "execution_count": 14,
   "metadata": {},
   "outputs": [
    {
     "name": "stdout",
     "output_type": "stream",
     "text": [
      "Welcome to Python.org\n",
      "https://www.python.org/\n",
      "Python Documentation by Version\n",
      "Download Python for Other Platforms\n",
      "Python 2.5.3\n",
      "Python 2.5.4 Release\n",
      "Python 2.5.4\n",
      "Python 2.5.3 Release\n",
      "Python 2.5 Release\n",
      "Python 2.5.2 Release\n",
      "Python 2.5.1 Release\n",
      "Sunsetting Python 2\n",
      "Python 2.5.0\n",
      "Python 3.1.4\n",
      "Python 2.5.2\n",
      "Python 3.1.4 Release\n",
      "Python 3.1.3 Release\n",
      "Python 2.5.1\n",
      "Python 3.2.1 Release\n",
      "Python 2.7.9rc1\n",
      "Python 3.0 Release\n",
      "Python 3.2.5 Release\n"
     ]
    }
   ],
   "source": [
    "from selenium import webdriver\n",
    "from selenium.webdriver.common.keys import Keys\n",
    "import time\n",
    "\n",
    "# chromedriver 사용\n",
    "# chromedriver = '/usr/local/Cellar/chromedriver/chromedriver'\n",
    "# driver = webdriver.Chrome(chromedriver)\n",
    "\n",
    "# phantomJS 사용\n",
    "phantomjs_file = '/usr/local/bin/phantomjs'\n",
    "driver = webdriver.PhantomJS(phantomjs_file)\n",
    "\n",
    "driver.get('http://www.python.org')\n",
    "print(driver.title)\n",
    "print(driver.current_url)\n",
    "\n",
    "assert \"Python\" in driver.title\n",
    "\n",
    "search = driver.find_element_by_id(\"id-search-field\")\n",
    "search.clear()\n",
    "search.send_keys('python')\n",
    "search.send_keys(Keys.RETURN)\n",
    "\n",
    "time.sleep(2)\n",
    "\n",
    "assert \"No results found.\" not in driver.page_source\n",
    "\n",
    "data = driver.find_elements_by_css_selector(\"#content > div > section > form > ul > li > h3 > a\")\n",
    "for item in data:\n",
    "    print(item.text)\n",
    "driver.quit()"
   ]
  },
  {
   "cell_type": "markdown",
   "metadata": {},
   "source": [
    "### Headless Chrome"
   ]
  },
  {
   "cell_type": "code",
   "execution_count": null,
   "metadata": {},
   "outputs": [],
   "source": [
    "from selenium import webdriver\n",
    "\n",
    "options = webdriver.ChromeOptions()\n",
    "options.add_argument('headless')\n",
    "options.add_argument('window-size=1920x1080')\n",
    "options.add_argument(\"disable-gpu\")\n",
    "options.add_argument(\"User-Agent:  Mozilla/5.0 (Macintosh; Intel Mac OS X 10_14_4) AppleWebKit/537.36 (KHTML, like Gecko) Chrome/74.0.3729.131 Safari/537.36\")\n",
    "options.add_argument(\"lang=ko_KR\")\n",
    "chromedriver = '/usr/local/Cellar/chromedriver/chromedriver' # 맥\n",
    "driver = webdriver.Chrome(chromedriver, chrome_options=options)\n",
    "driver.get('http://v.media.daum.net/v/20170202185812986')\n",
    "\n",
    "body = driver.find_element_by_id('harmonyContainer')\n",
    "print (body.text)\n",
    "    \n",
    "driver.quit()"
   ]
  },
  {
   "cell_type": "markdown",
   "metadata": {},
   "source": [
    "### User Agent 확인 - Headless Chrome"
   ]
  },
  {
   "cell_type": "code",
   "execution_count": null,
   "metadata": {},
   "outputs": [],
   "source": [
    "from selenium import webdriver\n",
    "\n",
    "options = webdriver.ChromeOptions()\n",
    "options.add_argument('headless')\n",
    "options.add_argument('window-size=1920x1080')\n",
    "options.add_argument(\"disable-gpu\")\n",
    "options.add_argument(\"User-Agent:  Mozilla/5.0 (Macintosh; Intel Mac OS X 10_14_4) AppleWebKit/537.36 (KHTML, like Gecko) Chrome/74.0.3729.131 Safari/537.36\")\n",
    "options.add_argument(\"lang=ko_KR\")\n",
    "chromedriver = '/usr/local/Cellar/chromedriver/chromedriver' # 맥\n",
    "driver = webdriver.Chrome(chromedriver, chrome_options=options)\n",
    "driver.get('https://intoli.com/blog/making-chrome-headless-undetectable/chrome-headless-test.html')\n",
    "\n",
    "user_agent = driver.find_element_by_css_selector('#user-agent').text\n",
    "\n",
    "print('User-Agent: ', user_agent)\n",
    "\n",
    "driver.quit()\n"
   ]
  },
  {
   "cell_type": "markdown",
   "metadata": {},
   "source": [
    "### User Agent 확인 - Selenium "
   ]
  },
  {
   "cell_type": "code",
   "execution_count": null,
   "metadata": {},
   "outputs": [],
   "source": [
    "from selenium import webdriver\n",
    "\n",
    "chromedriver = '/usr/local/Cellar/chromedriver/chromedriver' # 맥\n",
    "driver = webdriver.Chrome(chromedriver)\n",
    "driver.get('https://intoli.com/blog/making-chrome-headless-undetectable/chrome-headless-test.html')\n",
    "\n",
    "user_agent = driver.find_element_by_css_selector('#user-agent').text\n",
    "\n",
    "print('User-Agent: ', user_agent)\n",
    "\n",
    "driver.quit()\n"
   ]
  }
 ],
 "metadata": {
  "kernelspec": {
   "display_name": "Python 3",
   "language": "python",
   "name": "python3"
  },
  "language_info": {
   "codemirror_mode": {
    "name": "ipython",
    "version": 3
   },
   "file_extension": ".py",
   "mimetype": "text/x-python",
   "name": "python",
   "nbconvert_exporter": "python",
   "pygments_lexer": "ipython3",
   "version": "3.8.5"
  }
 },
 "nbformat": 4,
 "nbformat_minor": 2
}
